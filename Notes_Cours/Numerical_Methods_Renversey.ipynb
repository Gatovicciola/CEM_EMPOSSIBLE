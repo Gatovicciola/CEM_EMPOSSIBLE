{
 "cells": [
  {
   "cell_type": "markdown",
   "metadata": {},
   "source": [
    "# Numerical methods in electrodynamics by Gilles Renversez\n",
    "## PART 1 - Introduction to Numerical Method\n",
    "\n",
    "### Motivation\n",
    "\n",
    "* Maxwell's equations coupled with constitutive relations provide an accurate quantitative description of ligth propagration in Ⲗ-scale or bigger structures.\n",
    "Consequently, they can be used to design and to optimize photonic devices through numerical simulations prior to the actual fabircation.\n",
    "We can think of these simulations as numerical experiments that mirror actual experiments. For example: scattering properties, or loss evaluation.\n",
    "*  Direct compuational techniques are also the heart engine of inversion methods.\n",
    "*  Using the extreme versatility allowed by numerical simulations, on can also define realze \"unphysical\" simulations that will nevertheless provide meaningful and usefil results (*citation)"
   ]
  },
  {
   "cell_type": "markdown",
   "metadata": {},
   "source": [
    "### Goals:\n",
    "> Solve numerically Maxwell's equations or approximated ones in structures with Ⲗ-scale or larger parttern to obtain their propoerties and to prpopose designs\n",
    "\n",
    "### The 3 types of propblems in computational photonics:\n",
    "1- Time-domain simulations\n",
    "> - start with some time-dependent current source J(r,t)\n",
    "> - compute the fields E(r,t) and H(r,t).\n",
    "\n",
    "Exemple: Finite-Difference Time-Domaine method (FDTD) and Beam Propagation Method (BPM)"
   ]
  },
  {
   "cell_type": "markdown",
   "metadata": {},
   "source": [
    "2- Frequency-domain linear response simulations\n",
    "> - start with and harmonic currect J(r,t)=J(r)exp(iωt)\n",
    "> - solve the steady-state harmonic problem for E(r) and H(r).\n",
    "> - involve the solving of a linear system of the for Ax=B  to bind x (the filed) where A is a matrix\n",
    "Exemple: harmonic diffraction Finite Element Method"
   ]
  },
  {
   "cell_type": "markdown",
   "metadata": {},
   "source": [
    "3- Frequency-domain eigenvalue problem\n",
    "> - assume source-free configuration\n",
    "> - search for steady-state harmonic steady-state harmonic problem for E(r) and H(r) with exp(iωt) time dependency.\n",
    "> - involve the solving of a generalized eigenvalue problem of form Ax=Ⲗ²Bx where A and B are matrices (instead of a simple eigenvalue proble Ax=Ⲗ²x). The unknowns are the eigenvalues Ⲗ² and the eigenvectors x.\n",
    "\n",
    "Remark: in a waveguide problem, the eigen value Ⲗ² is the squared propagation constant β² while in a cavity problem it is a squared frequency ω².\n",
    "\n",
    "Exemples: Finite Element Method (FEM), Plane Wave Method (PWM)"
   ]
  },
  {
   "cell_type": "markdown",
   "metadata": {},
   "source": [
    "### Eache of the 3 categories can be split in 2 depending on the geometry of the structures:\n",
    "1 - periodic structures: --> band diagram for photonic crystal for exemple\n",
    "\n",
    "2 - finit size structures: --> properties and optimization of photonic devices.\n",
    "\n",
    "\n",
    "Definition: modal problems, are the frequency-domain eigenvalue problems. The modes being the solutions of the *homogeneous electromagnetic problem*\n",
    "\n",
    "Justification: Knowning the modes of a waveguide helps to understand diffaction pattern issues and to catch the main properties of photonic structures"
   ]
  },
  {
   "cell_type": "markdown",
   "metadata": {},
   "source": [
    "### Remarks\n",
    ">1- All the phenomenons on physics are not linear. In several cases nonlinearities can not be neglected or are even the key effects to be considered.\n",
    "- The superposition principle is then no longer valid. In these cases, we can keep the above splitting into 3 categories of problems nevertheless the equations to be solved are different and more specific techniques must be used to solve them.\n",
    "- Most of the times, simplification of Maxwell's equation is needed prior to numerical simulations. Cf \"computational photonics and applications\".\n",
    "\n",
    ">2- For frequency-domain eigenvalue problems (modal problems) several numerical methods are available to obtain the eigenvalue equation to be solved (like Ax=Ⲗ²Bx) according to the types of discretization basis they use to reduce the number of unknows/to described the fields.\n",
    "\n",
    ">3- Sometimes to understand or to catch the physics of one photonic device, only few modes need to be studied, and these modes can be used in *coupled mode theory*"
   ]
  },
  {
   "cell_type": "markdown",
   "metadata": {},
   "source": [
    "#### Finite difference methods\n",
    ">On a *regular grid*, most of the time a cartesian one, the fields are discretized by their values on the nodes of the grid: $E_n = E(n\\Delta x)$ in 1D case.\n",
    "The derivatives are computed by finite difference on the grid:\n",
    "- (usually in an explicit way): $\\frac{dE_n}{dX}=\\frac{dE_{n+1}-dE_{n-1}}{2\\Delta x} + \\Theta(\\Delta x^2)$\n",
    "- (centered formula for first order derivative)\n",
    "\n",
    "#### Spectral methods\n",
    ">The fileds are expressed as a series expansion in a *complete basis set of functions that are soluations of some wave equations*. The series must be truncated to get a finite number of terms to allow the numerical evaluations."
   ]
  },
  {
   "cell_type": "markdown",
   "metadata": {},
   "source": [
    "#### Choice of the discretization basis\n",
    "> - The most well known examples is the *plane waves method* (PWM) which uses *Fourier series* in cartesian coordinate system to describe the fields. The terms in the Fourier series are *plane waves that are solutions of the wave equation in homogeneous medium*: $\\Delta U=\\frac{1}{v^2}\\frac{\\partial^2U}{\\partial t^2}$"
   ]
  },
  {
   "cell_type": "markdown",
   "metadata": {},
   "source": [
    "# grec letter\n",
    "Δ Ⲗ β ω"
   ]
  },
  {
   "cell_type": "markdown",
   "metadata": {},
   "source": []
  }
 ],
 "metadata": {
  "language_info": {
   "name": "python"
  }
 },
 "nbformat": 4,
 "nbformat_minor": 2
}
