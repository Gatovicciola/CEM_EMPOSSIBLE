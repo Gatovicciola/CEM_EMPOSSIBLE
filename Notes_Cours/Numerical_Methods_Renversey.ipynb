{
 "cells": [
  {
   "cell_type": "markdown",
   "metadata": {},
   "source": [
    "# Numerical methods in electrodynamics by Gilles Renversez\n",
    "## PART I - Introduction to Numerical Method\n",
    "\n",
    "1 - General introduction\n",
    "\n",
    "2 - Classifications of problems in computational photonics\n",
    "\n",
    "3 - Choice of the discretization basis\n",
    "\n",
    "4 - Some useful books\n",
    "\n",
    "\n"
   ]
  },
  {
   "cell_type": "markdown",
   "metadata": {},
   "source": [
    "### I.1 - General Introduction\n",
    "#### Motivation\n",
    "\n",
    "* Maxwell's equations coupled with constitutive relations provide an accurate quantitative description of ligth propagration in Ⲗ-scale or bigger structures.\n",
    "Consequently, they can be used to design and to optimize photonic devices through numerical simulations prior to the actual fabircation.\n",
    "We can think of these simulations as numerical experiments that mirror actual experiments. For example: scattering properties, or loss evaluation.\n",
    "*  Direct compuational techniques are also the heart engine of inversion methods.\n",
    "*  Using the extreme versatility allowed by numerical simulations, on can also define realze \"unphysical\" simulations that will nevertheless provide meaningful and usefil results (*citation)\n",
    "\n",
    "#### Goals:\n",
    "> Solve numerically Maxwell's equations or approximated ones in structures with Ⲗ-scale or larger parttern to obtain their propoerties and to prpopose designs"
   ]
  },
  {
   "cell_type": "markdown",
   "metadata": {},
   "source": [
    "\n",
    "### I.2 - Classification of problems in computational photonics\n",
    "\n",
    "Three types of propblems in computational photonics:\n",
    "\n",
    "1- Time-domain simulations\n",
    "> - start with some time-dependent current source J(r,t)\n",
    "> - compute the fields E(r,t) and H(r,t).\n",
    "\n",
    "Exemple: Finite-Difference Time-Domaine method (FDTD) and Beam Propagation Method (BPM)"
   ]
  },
  {
   "cell_type": "markdown",
   "metadata": {},
   "source": [
    "2- Frequency-domain linear response simulations\n",
    "> - start with and harmonic currect J(r,t)=J(r) $e^{i \\omega t}$\n",
    "> - solve the steady-state harmonic problem for E(r) and H(r).\n",
    "> - involve the solving of a linear system of the for Ax=B  to bind x (the filed) where A is a matrix\n",
    "Exemple: harmonic diffraction Finite Element Method"
   ]
  },
  {
   "cell_type": "markdown",
   "metadata": {},
   "source": [
    "3- Frequency-domain eigenvalue problem\n",
    "> - assume source-free configuration\n",
    "> - search for steady-state harmonic steady-state harmonic problem for E(r) and H(r) with $e^{i \\omega t}$ time dependency.\n",
    "> - involve the solving of a generalized eigenvalue problem of form Ax=Ⲗ²Bx where A and B are matrices (instead of a simple eigenvalue proble Ax=Ⲗ²x). The unknowns are the eigenvalues Ⲗ² and the eigenvectors x.\n",
    "\n",
    "Remark: in a waveguide problem, the eigen value Ⲗ² is the squared propagation constant β² while in a cavity problem it is a squared frequency ω².\n",
    "\n",
    "Exemples: Finite Element Method (FEM), Plane Wave Method (PWM)"
   ]
  },
  {
   "cell_type": "markdown",
   "metadata": {},
   "source": [
    "### Eache of the 3 categories can be split in 2 depending on the geometry of the structures:\n",
    "1 - periodic structures: --> band diagram for photonic crystal for exemple\n",
    "\n",
    "2 - finit size structures: --> properties and optimization of photonic devices.\n",
    "\n",
    "\n",
    "Definition: modal problems, are the frequency-domain eigenvalue problems. The modes being the solutions of the *homogeneous electromagnetic problem*\n",
    "\n",
    "Justification: Knowning the modes of a waveguide helps to understand diffaction pattern issues and to catch the main properties of photonic structures"
   ]
  },
  {
   "cell_type": "markdown",
   "metadata": {},
   "source": [
    "### Remarks\n",
    ">1- All the phenomenons on physics are not linear. In several cases nonlinearities can not be neglected or are even the key effects to be considered.\n",
    "- The superposition principle is then no longer valid. In these cases, we can keep the above splitting into 3 categories of problems nevertheless the equations to be solved are different and more specific techniques must be used to solve them.\n",
    "- Most of the times, simplification of Maxwell's equation is needed prior to numerical simulations. Cf \"computational photonics and applications\".\n",
    "\n",
    ">2- For frequency-domain eigenvalue problems (modal problems) several numerical methods are available to obtain the eigenvalue equation to be solved (like Ax=Ⲗ²Bx) according to the types of discretization basis they use to reduce the number of unknows/to described the fields.\n",
    "\n",
    ">3- Sometimes to understand or to catch the physics of one photonic device, only few modes need to be studied, and these modes can be used in *coupled mode theory*"
   ]
  },
  {
   "cell_type": "markdown",
   "metadata": {},
   "source": [
    "### I.3 - Choice of the discretization basis\n",
    "#### Finite difference methods\n",
    ">On a *regular grid*, most of the time a cartesian one, the fields are discretized by their values on the nodes of the grid: $E_n = E(n\\Delta x)$ in 1D case.\n",
    "The derivatives are computed by finite difference on the grid:\n",
    "- (usually in an explicit way): $\\frac{dE_n}{dX}=\\frac{dE_{n+1}-dE_{n-1}}{2\\Delta x} + \\Theta(\\Delta x^2)$\n",
    "- (centered formula for first order derivative)\n",
    "\n",
    "#### Spectral methods\n",
    ">The fileds are expressed as a series expansion in a *complete basis set of functions that are soluations of some wave equations*. The series must be truncated to get a finite number of terms to allow the numerical evaluations."
   ]
  },
  {
   "cell_type": "markdown",
   "metadata": {},
   "source": [
    "> - The most well known examples is the *plane waves method* (PWM) which uses *Fourier series* in cartesian coordinate system to describe the fields. The terms in the Fourier series are *plane waves that are solutions of the wave equation in homogeneous medium*: $\\Delta \\mathbf{U}=\\frac{1}{v^2}\\frac{\\partial^2\\mathbf{U}}{\\partial t^2}$\n",
    "\n",
    "Using specific approximate trick (supercell approximation), PWM can be used to study finite size structures (with some limitations).\n",
    "> - Another example is the *multipole method* (MM) which uses *Fourier-Bessel series* to describe the field: the terms in the series invole plane wave modulated by Bessel $J_n$ or Hanker $H_n^{(1)}$ special functions satisfying the *Helmotz equation*.\n",
    "\n",
    "It is used to study *z*-inveriant structure with and $e^{i \\beta z}$ dependency with a finite cross-section in the transverse *(x, y)* or *(x, $\\theta$)* plane like microstructured optical fibers (see also boundary-element method paragraph below).\n",
    "\n",
    "In the transverse plane, using polar coordinates *(x, $\\theta$)* in homogeneous regions, $k_⊥$ being the transverse wavenumber such that $k_⊥ = \\sqrt{k_0^2 n_{medium}^2 - \\beta^2}$.\n",
    "\n",
    "$V = \\sum_{n∈ℤ}{(A_n J_n (k_⊥ r) + B_n H_n^{(1)} (k_⊥ r))} e^{i n \\theta}$\n",
    "\n",
    "Using special boundary conditions, this method can be extended to deal with periodic structures, in this case it is called the *Rayleigh's method*."
   ]
  },
  {
   "cell_type": "markdown",
   "metadata": {},
   "source": [
    "- Finite element methods\n",
    "> The photonic structure is divided into a sed of finite size simple geometric elements (like irregular triangles in 2D or tetrahedra in 3D) called mesh, and the unknown fields are represented on these elements by low-degree polynomials ( not solution of some wave equations).\n",
    "\n",
    "- Boundary-element methods\n",
    "> - Not all space is discretized\n",
    "> - Only the boundaries between homogeneous media are described.\n",
    "> - The homogeneous region are treated analytically using Helmoltz equation.\n",
    "> - The discretization can use a finite element or a spectral basis.\n",
    "\n",
    "\n",
    "Generally speaking:\n",
    "- Finite difference and spectral methods are easier to implement than FEM or BEM\n",
    "- FEM are the more versatile methods to studay complex structures including nonlinear ones.\n",
    "\n",
    "In what follows we will first focus on FEM and espesciallu on its capacity to solve frequency-domain eigenvalue problems.\n",
    "\n",
    "Secondly, we will describe FDTD. We choose these methods because together they cover a wide field in compuational photonics sutides and they are quite widespread in laboratories and research departments of high-tech photonic companies."
   ]
  },
  {
   "cell_type": "markdown",
   "metadata": {},
   "source": [
    "### I.4 -  Books\n",
    "\n",
    "J.D. Joannopoulos, R.Meade and J.N. Winn\n",
    "*\"Photonic Crystals Molding the Flow of Light\"*\n",
    "Princeton University Press, 1995\n",
    "\n",
    "T. Itoh, G. Pelosi and P.P. Silvester, editors\n",
    "*\"Finite ELement Software for Microwave Engineering\"*\n",
    "John Wiley & Sons Inc., 1996\n",
    "\n",
    "J. Jin\n",
    "*\"The Finite Element Method in Electromagnetics\"*\n",
    "John Wiley & Sons Inc., 2002\n",
    "\n",
    "Allen Taflove, editor.\n",
    "*\"Advances in Computational Electrodynamics The Finit-Difference Time-Domain Method\"*\n",
    "Artech House, 1998\n",
    "\n",
    "Jian-Ming Jing.\n",
    "*\"Theory and Computation of Electromagnetic Fields\"*\n",
    "John Wiley & Sons Inc., 2012\n",
    "\n",
    "S. Obayya.\n",
    "*\"Computational Photonics\"*\n",
    "Wiley, 2011\n",
    "\n",
    "F. Zolla, G. Renversez, A. Nicolet, B. Kuhlmey, S. Guenneau, D. Felbacq, A. Argyros and S. Leon-Saval.\n",
    "*\"Foundations of Photonic Crystal Fibres\"*\n",
    "Imperial College Press, London, 2nd edition, 2012\n",
    "\n",
    "A. W. Snyder and J. D. Love.\n",
    "*\"Optical Waveguide Theory\"*\n",
    "Chapman & Hall, New York, 1993"
   ]
  },
  {
   "cell_type": "markdown",
   "metadata": {},
   "source": [
    "## PART II: Overview of the Finite Difference Time Domain Method\n",
    "\n",
    "1 - Introductions of the Finite Difference Time Domain method\n",
    "\n",
    "2 - The one-dimensional scalar wave equation\n",
    "\n",
    "3 - Numerical dispersion relation\n",
    "\n",
    "4 - Numerical stability\n",
    "\n",
    "5 - The Yee's algorithm\n",
    "\n",
    "6 - An open-source and free implementation of the FDTD method: MEEP software\n"
   ]
  },
  {
   "cell_type": "markdown",
   "metadata": {},
   "source": [
    "### II.1 - Introductions of the Finite Difference Time Domain method\n",
    "\n",
    "\n",
    "A. Taflove and S. C. Hagness,\n",
    "*\"Computational electrodynamics: The Finite-Difference Time-Domain Method\"*\n",
    "Artech House 2005\n",
    "\n",
    "A. Taflove, A. Oskoii and S. G. Johnson,\n",
    "*\"Advances in FDTD, Computational electrodynamics\"*\n",
    "Artech House 2013\n",
    "\n",
    "#### II.1.1 - Goals\n",
    "\n",
    "- To describe the fundamentals of the FDTD metod (including the Yee's algorithm) to allow an easy access to the main references in the field\n",
    "\n",
    "- To show simple examples using a multiple-environment open-source software implementing the method\n",
    "\n",
    "#### II.1.2 - Historic\n",
    "\n",
    "- First proposed by Kane Yee in 1966\n",
    "- Implemented and used by researchers like Taflove and Brodwin as soon as 1975, few years later by Holland in 1977, and then others.\n",
    "- Numerically stable absorbing boundary conditions (ABC) were first proposed by Mur in 1981\n",
    "- First applications to waveguide studies and their eigenvalue problems in 1986 by CHoi and Hoefer\n",
    "- First modelling of dispersive media by Kashiwa and Fukay in 1990\n",
    "- Simulations of nonlinear media by Goorijan and Taflove in 1992\n",
    "- Perfectly matched layers (PML) were developed by Bérenger in 1994\n",
    "\n",
    "#### II.1.3 - Advantages of the FDTD\n",
    "\n",
    "- It does not used complex algebra, there is no need for matrix inversion or matrix eigenvalue search. It is a fully explicit computation\n",
    "- It is accurate and robust\n",
    "- It treats impulsive behaviour naturally. Being a time-domain technique, it calculates the impulse response of an electromagnetic system\n",
    "- It is a systematic approach. Specifying a new structure is reduced to a mesh generation like the FEM as opposed to most integral approaches\n",
    "- It can be implemented in parallel computing frameworks"
   ]
  },
  {
   "cell_type": "markdown",
   "metadata": {},
   "source": [
    "### II.2 - The one-dimensional scalar wave equation\n",
    "\n",
    "#### Introduction\n",
    "\n",
    "In this section, we will introduce the first analytical results for the scalar wave equation, then some finit difference numerical schemes.\n",
    "\n",
    "These results will allow us to describe key concepts in numerical dispersion, numerical phase velocity and critical time-step, and finally numerical stability.\n",
    "##### II.2.1 - Analytical results for the 1D scalar wave equation\n",
    "\n",
    "$\\frac{\\partial^2\\mathbf{u}}{\\partial t^2} = v^2 \\frac{\\partial^2\\mathbf{u}}{\\partial x^2}$\n",
    "with $u = u(x,t)$\n",
    "\n",
    "\n",
    "It is known that the solutions are the form:\n",
    "\n",
    "\n",
    "$u(x,t) = F(x+vt) + G(x-vt)$ where $F, G ∈ C^2(R)$\n",
    "\n",
    "Propagating waves described by F move toward negative x while the ones described by G move toward positive x. \n",
    "\n",
    "##### II.2.2 - Dispersion relation\n",
    "\n",
    "We consider a continuous sinusoidal propagation-wave toward positive solution of the form:\n",
    "\n",
    "\n",
    "$u(x,t) = e^{i(wt - kw)}$\n",
    "\n",
    "Subtsituing this expression in Eq. (2), on gets the *dispersion relation*  for the 1D scalqr wave equation:\n",
    "\n",
    "$k = \\pm \\frac{\\omega}{v}$\n",
    "\n",
    "\n",
    "We remind that the definition of *phase velocity* is:\n",
    "\n",
    "\n",
    "$v_p = \\frac{\\omega}{\\mathbf{k}}$\n",
    "\n",
    "\n",
    "We get in our case:\n",
    "\n",
    "\n",
    "$v_p = \\pm v$\n",
    "\n",
    "Here $v_p$ does not depend on the frequency, thus the waves are dispersionless.\n",
    "\n",
    "We now remind the definition of the group velocity v_g:\n",
    "\n",
    "\n",
    "$v_g = \\frac{d\\omega}{d\\mathbf{k}}$\n",
    "\n",
    "\n",
    "We get in our case:\n",
    "\n",
    "\n",
    "$v_g = \\pm v$\n",
    "\n",
    "Again, the velocity is independent of the frequency.\n"
   ]
  },
  {
   "cell_type": "markdown",
   "metadata": {},
   "source": [
    "\n",
    "##### II.2.3 - Finite difference approximation of the scalar wave equation\n",
    "\n",
    "Let us consider a Taylor's series expansion of $u(x, t_n)$ at $ x = x_i + \\Delta x$, keeping time fixed:\n",
    "\n",
    "\n",
    "$u(x_i + \\Delta x) = u|_{x_i, t_n} + \\Delta x \\frac{\\partial u}{\\partial x}|_{x_i, t_n} + \\frac{(\\Delta x)^2}{2!} \\frac{\\partial^2 u}{\\partial x^2}|_{x_i, t_n} + \\frac{(\\Delta x)^3}{3!} \\frac{\\partial^3 u}{\\partial x^3}|_{x_i, t_n} + \\frac{(\\Delta x)^4}{4!} \\frac{\\partial^4 u}{\\partial x^4}|_{\\xi_1, t_n}$\n",
    "\n",
    "where the last term is the error term and $\\xi_1$ $\\epsilon$ $[x_i ,x_i + \\Delta x]$.\n",
    "\n",
    "Let us consider a Taylors' series expansion of $u(x, t_n)$ at $x = x_i - \\Delta x$, keeping time fixed:\n",
    "\n",
    "\n",
    "$u(x_i - \\Delta x) = u|_{x_i, t_n} - \\Delta x \\frac{\\partial u}{\\partial x}|_{x_i, t_n} + \\frac{(\\Delta x)^2}{2!} \\frac{\\partial^2 u}{\\partial x^2}|_{x_i, t_n} - \\frac{(\\Delta x)^3}{3!} \\frac{\\partial^3 u}{\\partial x^3}|_{x_i, t_n} + \\frac{(\\Delta x)^4}{4!} \\frac{\\partial^4 u}{\\partial x^4}|_{\\xi_2, t_n}$\n",
    "\n",
    "\n",
    "where the last term is the error term and $\\xi_2$ $\\epsilon$ $[x_i ,x_i - \\Delta x]$.\n",
    "\n",
    "Let us consider a Taylors' series expansion of $u(x, t_n)$ at $x = x_i - \\Delta x$.\n",
    "\n",
    "\n",
    "Adding Equations (9) and (10), one gets:\n",
    "\n",
    "\n",
    "$u(x_i + \\Delta x) + u(x_i - \\Delta x) = 2 u|_{x_i, t_n} + (\\Delta x)^2 \\frac{\\partial^2 u}{\\partial x^2}|_{x_i, t_n} + \\frac{(\\Delta x)^4}{12} \\frac{\\partial^4 u}{\\partial x^4}|_{\\xi_3, t_n}$\n",
    "\n",
    "This implies:\n",
    "\n",
    "$\\frac{\\partial^2 u}{\\partial x^2}|_{x_i, t_n} = \\frac{(u(x_i + \\Delta x) -2 u|_{x_i, t_n} + u(x_i - \\Delta x))}{(\\Delta x)^2} + \\Theta((\\Delta x)^2) = \\frac{(u|_{x_i+1, t_n} -2 u|_{x_i, t_n} + u|_{x_i-1, t_n})}{(\\Delta x)^2} + \\Theta((\\Delta x)^2)$\n",
    "\n",
    "\n",
    "where $\\Theta((\\Delta x)^2)$ is the remainder term.\n",
    "\n",
    "To follow the usual notations in the field we adopt a supercrippt *n* to specify the time observation point and a subscrit *i* for the space position along *x* axis, eq. (12) is rewritten:\n",
    "\n",
    "\n",
    "$\\frac{\\partial^2 u}{\\partial x^2}|_{x_i, t_n} = \\frac{u^n_{i+1} -2 u^n_{i} +u^n_{i-1}}{(\\Delta x)^2} + \\Theta((\\Delta x)^2)$\n",
    "\n",
    "We same type of calculus can be done for the second partial derivative, we keep *x* fixed and expand *u* in forward and backward Taylor's expansion in time.\n",
    "\n",
    "$\\frac{\\partial^2 u}{\\partial t^2}|_{x_i, t_n} = \\frac{u^{n+1}_{i} -2 u^n_{i} +u^{n-1}_i}{(\\Delta t)^2} + \\Theta((\\Delta t)^2)$\n",
    "\n",
    "\n",
    "Subsituing eqs (13-14) in eq. (1), one obtains\n",
    "\n",
    "\n",
    "$\\frac{u^{n+1}_{i} -2 u^n_{i} +u^{n-1}_i}{(\\Delta t)^2} + \\Theta((\\Delta t)^2) = c^2 \\frac{u^n_{i+1} -2 u^n_{i} +u^n_{i-1}}{(\\Delta x)^2} + \\Theta((\\Delta x)^2)$\n",
    "\n",
    "\n",
    "\n",
    "Neglecting the series remainder terms, one have: \n",
    "\n",
    "\n",
    "$u^{n+1}_{i} \\simeq (c \\Delta t)^2 (\\frac{u^n_{i+1} -2 u^n_{i} +u^n_{i-1}}{(\\Delta x)^2}) +2 u^n_{i} - u^{n-1}_i$\n",
    "\n",
    "##### Critical time step: the \"magic\" one\n",
    "\n",
    "If one choose the special case $c \\Delta t = \\Delta x$ then, in a **exact way** eq. (16) reduces to:\n",
    "\n",
    "\n",
    "$u^{n+1}_{i} = u^n_{i+1} +u^n_{i-1} +u^{n-1}_i$\n",
    "\n",
    "\n",
    "The details of the proof of this properties can be found in Taflove's book, it is based on a simple and direct evaluation of the RHS and LHS terms in Eq. (3) with $u^n_i = F(x_i + ct_n) + G(x_i - ct_n)$.\n",
    "The \"magic\" properties come from the cancellation of the time and space remainder terms in eq. (15) coming from eqs. (13-14)."
   ]
  },
  {
   "cell_type": "markdown",
   "metadata": {},
   "source": [
    "### II.3 - Numerical dispersion relation\n",
    "#### II.3.1 - Complex wavenumbers \n",
    "#### II.3.2 - Three cases \n",
    "#### II.3.3 - Very thin sampling in time only"
   ]
  },
  {
   "cell_type": "markdown",
   "metadata": {},
   "source": [
    "\n",
    "### II.4 - Numerical stability\n"
   ]
  },
  {
   "cell_type": "markdown",
   "metadata": {},
   "source": [
    "### II.5 - The Yee's algorithm\n"
   ]
  },
  {
   "cell_type": "markdown",
   "metadata": {},
   "source": [
    "### II.6 - An open-source and free implementation of the FDTD method: MEEP software"
   ]
  },
  {
   "cell_type": "markdown",
   "metadata": {},
   "source": [
    "## PART III: Overview of the perfectly matched layers\n",
    "\n",
    "1 - Introductions of PML building and use\n",
    "\n",
    "2 - Preliminaries: wave equation reformulated\n",
    "\n",
    "3 - Complex coordinate stretching\n",
    "\n",
    "4 - Consequences of the complex coordinate stretching\n",
    "\n",
    "5 - Bach to the real x\n",
    "\n",
    "6 - Truncation on the computational domain\n",
    "\n",
    "7 - Coordinate transformations and modified materials\n",
    "\n",
    "8 - PML in the time domain\n",
    "\n",
    "9 - PML for Maxwell's equation in the barmania regime\n"
   ]
  },
  {
   "cell_type": "markdown",
   "metadata": {},
   "source": [
    "### III.1 - Introductions of PML building and use\n"
   ]
  },
  {
   "cell_type": "markdown",
   "metadata": {},
   "source": [
    "### III.2 - Preliminaries: wave equation reformulated\n"
   ]
  },
  {
   "cell_type": "markdown",
   "metadata": {},
   "source": [
    "### III.3 - Complex coordinate stretching\n"
   ]
  },
  {
   "cell_type": "markdown",
   "metadata": {},
   "source": [
    "### III.4 - Consequences of the complex coordinate stretching\n"
   ]
  },
  {
   "cell_type": "markdown",
   "metadata": {},
   "source": [
    "### III.5 - Bach to the real x\n"
   ]
  },
  {
   "cell_type": "markdown",
   "metadata": {},
   "source": [
    "### III.6 - Truncation on the computational domain\n"
   ]
  },
  {
   "cell_type": "markdown",
   "metadata": {},
   "source": [
    "### III.7 - Coordinate transformations and modified materials\n"
   ]
  },
  {
   "cell_type": "markdown",
   "metadata": {},
   "source": [
    "### III.8 - PML in the time domain\n"
   ]
  },
  {
   "cell_type": "markdown",
   "metadata": {},
   "source": [
    "### III.9 - PML for Maxwell's equation in the barmania regime\n"
   ]
  },
  {
   "cell_type": "markdown",
   "metadata": {},
   "source": [
    "# Part IV: Overview of the Finite Element Method\n",
    "\n",
    "1 - Basics of Finite Element Method\n",
    "\n",
    "2 - Application of the FEM invariant waveguides\n",
    "\n",
    "3 - Spatial discretization in the 2D case\n",
    "\n",
    "4 - Generalisation of the FEM\n"
   ]
  },
  {
   "cell_type": "markdown",
   "metadata": {},
   "source": [
    "### IV.1 - Basics of Finite Element Method\n",
    "\n"
   ]
  },
  {
   "cell_type": "markdown",
   "metadata": {},
   "source": [
    "### IV.2 - Application of the FEM invariant waveguides\n"
   ]
  },
  {
   "cell_type": "markdown",
   "metadata": {},
   "source": [
    "### IV.3 - Spatial discretization in the 2D case\n"
   ]
  },
  {
   "cell_type": "markdown",
   "metadata": {},
   "source": [
    "### IV.4 - Generalisation of the FEM"
   ]
  },
  {
   "cell_type": "markdown",
   "metadata": {},
   "source": [
    "https://www.upyesp.org/posts/makrdown-vscode-math-notation/"
   ]
  }
 ],
 "metadata": {
  "kernelspec": {
   "display_name": "Python 3",
   "language": "python",
   "name": "python3"
  },
  "language_info": {
   "codemirror_mode": {
    "name": "ipython",
    "version": 3
   },
   "file_extension": ".py",
   "mimetype": "text/x-python",
   "name": "python",
   "nbconvert_exporter": "python",
   "pygments_lexer": "ipython3",
   "version": "3.12.2"
  }
 },
 "nbformat": 4,
 "nbformat_minor": 2
}
